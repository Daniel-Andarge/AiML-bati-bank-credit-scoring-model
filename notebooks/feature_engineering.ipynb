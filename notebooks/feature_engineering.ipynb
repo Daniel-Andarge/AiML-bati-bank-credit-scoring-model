{
 "cells": [
  {
   "cell_type": "markdown",
   "id": "5e3f3272-06bb-46ab-92c0-d791500dc762",
   "metadata": {},
   "source": [
    "# Feature Engineering"
   ]
  },
  {
   "cell_type": "code",
   "execution_count": 1,
   "id": "cbdeb1f6-ab95-4a90-a166-183096a0b3a0",
   "metadata": {},
   "outputs": [],
   "source": [
    "import sys\n",
    "import os\n",
    "sys.path.append('../scripts')\n",
    "from data_loader import *"
   ]
  },
  {
   "cell_type": "markdown",
   "id": "f0b89089-966d-4422-821b-db78ac7fac23",
   "metadata": {},
   "source": [
    "## Load Dataset"
   ]
  },
  {
   "cell_type": "code",
   "execution_count": 2,
   "id": "636ed847-18f4-4a5d-b0ca-cb1fd304ebce",
   "metadata": {},
   "outputs": [],
   "source": [
    "# path to the CSV file\n",
    "filename = 'cleaned_df.parquet'\n",
    "path = os.path.join('..', 'data/processed', filename)\n",
    "\n",
    "# Load dataset\n",
    "cleaned_df = load_data(path)"
   ]
  },
  {
   "cell_type": "code",
   "execution_count": 3,
   "id": "97cba4ab-2260-4222-b779-e4f88fa31005",
   "metadata": {},
   "outputs": [
    {
     "name": "stdout",
     "output_type": "stream",
     "text": [
      "<class 'pandas.core.frame.DataFrame'>\n",
      "Index: 95393 entries, 0 to 95661\n",
      "Data columns (total 16 columns):\n",
      " #   Column                Non-Null Count  Dtype              \n",
      "---  ------                --------------  -----              \n",
      " 0   TransactionId         95393 non-null  object             \n",
      " 1   BatchId               95393 non-null  object             \n",
      " 2   AccountId             95393 non-null  object             \n",
      " 3   SubscriptionId        95393 non-null  object             \n",
      " 4   CustomerId            95393 non-null  object             \n",
      " 5   CurrencyCode          95393 non-null  object             \n",
      " 6   CountryCode           95393 non-null  int64              \n",
      " 7   ProviderId            95393 non-null  object             \n",
      " 8   ProductId             95393 non-null  object             \n",
      " 9   ProductCategory       95393 non-null  object             \n",
      " 10  ChannelId             95393 non-null  object             \n",
      " 11  Amount                95393 non-null  float64            \n",
      " 12  Value                 95393 non-null  int64              \n",
      " 13  TransactionStartTime  95393 non-null  datetime64[ns, UTC]\n",
      " 14  PricingStrategy       95393 non-null  int64              \n",
      " 15  FraudResult           95393 non-null  int64              \n",
      "dtypes: datetime64[ns, UTC](1), float64(1), int64(4), object(10)\n",
      "memory usage: 12.4+ MB\n"
     ]
    }
   ],
   "source": [
    "cleaned_df.info()"
   ]
  },
  {
   "cell_type": "code",
   "execution_count": null,
   "id": "6882170e-9afe-4a9e-8739-4b39d205804b",
   "metadata": {},
   "outputs": [],
   "source": []
  }
 ],
 "metadata": {
  "kernelspec": {
   "display_name": "Python 3 (ipykernel)",
   "language": "python",
   "name": "python3"
  },
  "language_info": {
   "codemirror_mode": {
    "name": "ipython",
    "version": 3
   },
   "file_extension": ".py",
   "mimetype": "text/x-python",
   "name": "python",
   "nbconvert_exporter": "python",
   "pygments_lexer": "ipython3",
   "version": "3.10.11"
  }
 },
 "nbformat": 4,
 "nbformat_minor": 5
}
